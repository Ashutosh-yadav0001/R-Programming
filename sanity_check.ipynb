{
  "nbformat": 4,
  "nbformat_minor": 0,
  "metadata": {
    "colab": {
      "provenance": [],
      "authorship_tag": "ABX9TyM76I9HL737Fzefdxn2teXQ",
      "include_colab_link": true
    },
    "kernelspec": {
      "name": "ir",
      "display_name": "R"
    },
    "language_info": {
      "name": "R"
    }
  },
  "cells": [
    {
      "cell_type": "markdown",
      "metadata": {
        "id": "view-in-github",
        "colab_type": "text"
      },
      "source": [
        "<a href=\"https://colab.research.google.com/github/Ashutosh-yadav0001/R-Programming/blob/programs/sanity_check.ipynb\" target=\"_parent\"><img src=\"https://colab.research.google.com/assets/colab-badge.svg\" alt=\"Open In Colab\"/></a>"
      ]
    },
    {
      "cell_type": "code",
      "execution_count": null,
      "metadata": {
        "colab": {
          "base_uri": "https://localhost:8080/"
        },
        "id": "tjWP_KVimJY7",
        "outputId": "2ace6999-25de-4a7c-b491-ba180cf29ff2"
      },
      "outputs": [
        {
          "output_type": "stream",
          "name": "stderr",
          "text": [
            "Warning message in sanity_check(my_data):\n",
            "“Data contains negative values.”\n",
            "Warning message in sanity_check(my_data):\n",
            "“Data contains non-finite values (Inf or NaN).”\n"
          ]
        },
        {
          "output_type": "stream",
          "name": "stdout",
          "text": [
            "Sanity check complete.\n",
            "Sanity check complete.\n"
          ]
        }
      ],
      "source": [
        "# Define a function for a basic sanity check\n",
        "sanity_check <- function(data, expect_non_negative = TRUE, expect_finite = TRUE) {\n",
        "\n",
        "  # Check for non-negative values (if expected)\n",
        "  if (expect_non_negative) {\n",
        "    if (any(data < 0, na.rm = TRUE)) {\n",
        "      warning(\"Data contains negative values.\")\n",
        "    }\n",
        "  }\n",
        "\n",
        "  # Check for finite values (if expected)\n",
        "  if (expect_finite) {\n",
        "    if (any(!is.finite(data))) {\n",
        "      warning(\"Data contains non-finite values (Inf or NaN).\")\n",
        "    }\n",
        "  }\n",
        "\n",
        "  # You can add more checks as needed, like:\n",
        "  # - Checking for missing values (NA)\n",
        "  # - Checking for specific data types\n",
        "  # - Checking for outliers\n",
        "\n",
        "  cat(\"Sanity check complete.\\n\")\n",
        "}\n",
        "\n",
        "# Example usage:\n",
        "my_data <- c(1, 5, -2, Inf)\n",
        "sanity_check(my_data)  # Will issue warnings for negative and non-finite values\n",
        "\n",
        "my_data2 <- c(1, 2, 3, NA)\n",
        "sanity_check(my_data2, expect_finite = FALSE)  # Will only warn about NA values"
      ]
    }
  ]
}