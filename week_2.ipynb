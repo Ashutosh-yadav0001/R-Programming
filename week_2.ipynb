{
  "nbformat": 4,
  "nbformat_minor": 0,
  "metadata": {
    "colab": {
      "provenance": [],
      "gpuType": "V28",
      "authorship_tag": "ABX9TyMw6WKGVYBvVKhGd05kcQY3",
      "include_colab_link": true
    },
    "kernelspec": {
      "name": "ir",
      "display_name": "R"
    },
    "language_info": {
      "name": "R"
    },
    "accelerator": "TPU"
  },
  "cells": [
    {
      "cell_type": "markdown",
      "metadata": {
        "id": "view-in-github",
        "colab_type": "text"
      },
      "source": [
        "<a href=\"https://colab.research.google.com/github/Ashutosh-yadav0001/R-Programming/blob/main/week_2.ipynb\" target=\"_parent\"><img src=\"https://colab.research.google.com/assets/colab-badge.svg\" alt=\"Open In Colab\"/></a>"
      ]
    },
    {
      "cell_type": "markdown",
      "source": [],
      "metadata": {
        "id": "lo0uetwsDqWY"
      }
    },
    {
      "cell_type": "markdown",
      "source": [
        "**Exercise 1: Write a code, to calculate the BMI of 4 people, whose heights are 180cm,172cm,140cm, and 210cm, and weights are 45kg, 65kg, 82kg, and 110kg.\n",
        "\n",
        "The formula for BMI is weight(kg) / height^2(m )"
      ],
      "metadata": {
        "id": "_Rno6wFuDu5s"
      }
    },
    {
      "cell_type": "markdown",
      "source": [],
      "metadata": {
        "id": "CRB8__JoEbW2"
      }
    },
    {
      "cell_type": "code",
      "execution_count": 1,
      "metadata": {
        "colab": {
          "base_uri": "https://localhost:8080/",
          "height": 34
        },
        "id": "brEAk-vGDfTf",
        "outputId": "35192361-ca02-41b0-9fef-2672802c5773"
      },
      "outputs": [
        {
          "output_type": "display_data",
          "data": {
            "text/html": [
              "<style>\n",
              ".list-inline {list-style: none; margin:0; padding: 0}\n",
              ".list-inline>li {display: inline-block}\n",
              ".list-inline>li:not(:last-child)::after {content: \"\\00b7\"; padding: 0 .5ex}\n",
              "</style>\n",
              "<ol class=list-inline><li>13.8888888888889</li><li>21.9713358572201</li><li>41.8367346938776</li><li>24.9433106575964</li></ol>\n"
            ],
            "text/markdown": "1. 13.8888888888889\n2. 21.9713358572201\n3. 41.8367346938776\n4. 24.9433106575964\n\n\n",
            "text/latex": "\\begin{enumerate*}\n\\item 13.8888888888889\n\\item 21.9713358572201\n\\item 41.8367346938776\n\\item 24.9433106575964\n\\end{enumerate*}\n",
            "text/plain": [
              "[1] 13.88889 21.97134 41.83673 24.94331"
            ]
          },
          "metadata": {}
        }
      ],
      "source": [
        "# Heights in cm\n",
        "heights_cm <- c(180, 172, 140, 210)\n",
        "\n",
        "# Weights in kg\n",
        "weights_kg <- c(45, 65, 82, 110)\n",
        "\n",
        "# Convert heights to meters\n",
        "heights_m <- heights_cm / 100\n",
        "\n",
        "# Calculate BMI\n",
        "bmi <- weights_kg / (heights_m^2)\n",
        "\n",
        "# Display the BMI values\n",
        "bmi\n"
      ]
    },
    {
      "cell_type": "markdown",
      "source": [
        "**Exercise 2: Generate 100 random numbers using rnorm function built in R, calculate its mean, remove all values less than -1, again calculate the mean, and produce the absolute difference between the mean (use seed 2422) (hint: This is not mean absolute difference)**"
      ],
      "metadata": {
        "id": "9KBc7oNTDx3e"
      }
    },
    {
      "cell_type": "code",
      "source": [],
      "metadata": {
        "id": "PhuOHocpD7Gj"
      },
      "execution_count": null,
      "outputs": []
    },
    {
      "source": [
        "set.seed(2422)"
      ],
      "cell_type": "code",
      "metadata": {
        "id": "CjSAicCuD7s7"
      },
      "execution_count": 2,
      "outputs": []
    },
    {
      "source": [
        "random_numbers <- rnorm(100)\n",
        "mean_original <- mean(random_numbers)\n",
        "mean_original"
      ],
      "cell_type": "code",
      "metadata": {
        "colab": {
          "base_uri": "https://localhost:8080/",
          "height": 34
        },
        "id": "8OdW_2J0D9ow",
        "outputId": "e7e3c337-bd4d-45bf-cff0-171481120999"
      },
      "execution_count": 5,
      "outputs": [
        {
          "output_type": "display_data",
          "data": {
            "text/html": [
              "0.055607357085286"
            ],
            "text/markdown": "0.055607357085286",
            "text/latex": "0.055607357085286",
            "text/plain": [
              "[1] 0.05560736"
            ]
          },
          "metadata": {}
        }
      ]
    },
    {
      "source": [
        "random_numbers_filtered <- random_numbers[random_numbers >= -1]\n",
        "mean_filtered <- mean(random_numbers_filtered)\n",
        "mean_filtered\n"
      ],
      "cell_type": "code",
      "metadata": {
        "colab": {
          "base_uri": "https://localhost:8080/",
          "height": 34
        },
        "id": "4BnHTJ3EECKI",
        "outputId": "fdba56e3-b8cc-4f54-a2cb-85eb31bfa8e6"
      },
      "execution_count": 6,
      "outputs": [
        {
          "output_type": "display_data",
          "data": {
            "text/html": [
              "0.353234106302906"
            ],
            "text/markdown": "0.353234106302906",
            "text/latex": "0.353234106302906",
            "text/plain": [
              "[1] 0.3532341"
            ]
          },
          "metadata": {}
        }
      ]
    },
    {
      "source": [
        "abs(mean_original - mean_filtered)"
      ],
      "cell_type": "code",
      "metadata": {
        "colab": {
          "base_uri": "https://localhost:8080/",
          "height": 34
        },
        "id": "Lu0VONaXEQ9y",
        "outputId": "478080b6-d697-468a-e1ff-9c7852e4ed84"
      },
      "execution_count": 7,
      "outputs": [
        {
          "output_type": "display_data",
          "data": {
            "text/html": [
              "0.29762674921762"
            ],
            "text/markdown": "0.29762674921762",
            "text/latex": "0.29762674921762",
            "text/plain": [
              "[1] 0.2976267"
            ]
          },
          "metadata": {}
        }
      ]
    },
    {
      "cell_type": "markdown",
      "source": [
        "**exe:3: Generate 100 random numbers by using rnorm (use seed 3244), and use the round function to round the vectors unto digits 1,2,3,4 and 5. Check out the mean absolute difference from the original generated number, the output will be a vector of length 5 each is the mean absolute difference before and after rounding off. (hint: This is known as mean absolute difference (MAD))**"
      ],
      "metadata": {
        "id": "8_Rox-hPEeGA"
      }
    },
    {
      "cell_type": "code",
      "source": [],
      "metadata": {
        "id": "9pjNBgJ8FheH"
      },
      "execution_count": null,
      "outputs": []
    },
    {
      "source": [
        "set.seed(3244)\n",
        "\n",
        "\n",
        "random_numbers <- rnorm(100)\n",
        "\n",
        "\n",
        "rounded_numbers <- lapply(1:5, function(digit) round(random_numbers, digit))\n",
        "\n",
        "# Calculate MAD for each rounding\n",
        "mad_values <- sapply(rounded_numbers, function(x) mean(abs(x - random_numbers)))\n",
        "\n",
        "# Display the MAD values\n",
        "mad_values"
      ],
      "cell_type": "code",
      "metadata": {
        "colab": {
          "base_uri": "https://localhost:8080/",
          "height": 52
        },
        "id": "UqPHd3F4FmJE",
        "outputId": "e20e3dcc-9ff9-45bd-efed-de3efddf6d1e"
      },
      "execution_count": 8,
      "outputs": [
        {
          "output_type": "display_data",
          "data": {
            "text/html": [
              "<style>\n",
              ".list-inline {list-style: none; margin:0; padding: 0}\n",
              ".list-inline>li {display: inline-block}\n",
              ".list-inline>li:not(:last-child)::after {content: \"\\00b7\"; padding: 0 .5ex}\n",
              "</style>\n",
              "<ol class=list-inline><li>0.0242485433549201</li><li>0.00261041991490401</li><li>0.000226143708236909</li><li>2.53123584893731e-05</li><li>2.62942923344056e-06</li></ol>\n"
            ],
            "text/markdown": "1. 0.0242485433549201\n2. 0.00261041991490401\n3. 0.000226143708236909\n4. 2.53123584893731e-05\n5. 2.62942923344056e-06\n\n\n",
            "text/latex": "\\begin{enumerate*}\n\\item 0.0242485433549201\n\\item 0.00261041991490401\n\\item 0.000226143708236909\n\\item 2.53123584893731e-05\n\\item 2.62942923344056e-06\n\\end{enumerate*}\n",
            "text/plain": [
              "[1] 2.424854e-02 2.610420e-03 2.261437e-04 2.531236e-05 2.629429e-06"
            ]
          },
          "metadata": {}
        }
      ]
    },
    {
      "cell_type": "markdown",
      "source": [],
      "metadata": {
        "id": "oTb0m_jRF87I"
      }
    },
    {
      "cell_type": "markdown",
      "source": [
        "**exercise 4: Create a random vector of length 100 using rnorm (seed 2342), and get the index of the elements that are greater than -1.234 and less than 0.7643, then spit out the sum of indexes.**\n"
      ],
      "metadata": {
        "id": "HSlQ6d7tF-e1"
      }
    },
    {
      "source": [
        "\n",
        "set.seed(2342)\n",
        "\n",
        "# Generate random vector\n",
        "random_vector <- rnorm(100)\n",
        "\n",
        "# Find indices of elements within the range\n",
        "indices <- which(random_vector > -1.234 & random_vector < 0.7643)\n",
        "\n",
        "# Calculate the sum of indices\n",
        "sum(indices)"
      ],
      "cell_type": "code",
      "metadata": {
        "colab": {
          "base_uri": "https://localhost:8080/",
          "height": 34
        },
        "id": "uPlkZN8PGGIF",
        "outputId": "78aa5572-c0ae-4adc-ae2d-c4967e7cc1bd"
      },
      "execution_count": 9,
      "outputs": [
        {
          "output_type": "display_data",
          "data": {
            "text/html": [
              "3337"
            ],
            "text/markdown": "3337",
            "text/latex": "3337",
            "text/plain": [
              "[1] 3337"
            ]
          },
          "metadata": {}
        }
      ]
    },
    {
      "cell_type": "markdown",
      "source": [
        "**Exercise 5: Set seed 6544, generate random numbers of length ten, hundred, thousand, ten-thousand, and calculate the mean and variance of the generated vectors. (Hint: The purpose of the code is to show that as n is increasing the randomly generated number’s mean and variance will tend to be 0 and 1 respectively)**"
      ],
      "metadata": {
        "id": "O7wIINtWGQmx"
      }
    },
    {
      "cell_type": "code",
      "source": [],
      "metadata": {
        "id": "pf0mVESbGWEt"
      },
      "execution_count": null,
      "outputs": []
    },
    {
      "source": [
        "# Set seed for reproducibility\n",
        "set.seed(6544)\n",
        "\n",
        "# Different sample sizes\n",
        "sample_sizes <- c(10, 100, 1000, 10000)\n",
        "\n",
        "# Loop through sample sizes\n",
        "for (n in sample_sizes) {\n",
        "  # Generate random numbers\n",
        "  random_numbers <- rnorm(n)\n",
        "\n",
        "  # Calculate mean\n",
        "  mean_value <- mean(random_numbers) # Calculate and store the mean of random_numbers\n",
        "\n",
        "  # Print the mean for this sample size (optional)\n",
        "  print(paste(\"Mean for sample size\", n, \":\", mean_value))\n",
        "}"
      ],
      "cell_type": "code",
      "metadata": {
        "colab": {
          "base_uri": "https://localhost:8080/"
        },
        "id": "LN6Pg1YAGi1U",
        "outputId": "a8c0a3be-0631-455b-dce2-826c76d0729a"
      },
      "execution_count": 11,
      "outputs": [
        {
          "output_type": "stream",
          "name": "stdout",
          "text": [
            "[1] \"Mean for sample size 10 : 0.20354462066487\"\n",
            "[1] \"Mean for sample size 100 : -0.069105398549197\"\n",
            "[1] \"Mean for sample size 1000 : 0.0376157144852689\"\n",
            "[1] \"Mean for sample size 10000 : -0.00664558546653899\"\n"
          ]
        }
      ]
    }
  ]
}