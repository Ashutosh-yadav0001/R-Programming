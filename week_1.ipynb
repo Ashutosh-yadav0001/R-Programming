{
  "nbformat": 4,
  "nbformat_minor": 0,
  "metadata": {
    "colab": {
      "provenance": [],
      "authorship_tag": "ABX9TyOC8vqbBxn8Mryn24yAGQ1v",
      "include_colab_link": true
    },
    "kernelspec": {
      "name": "ir",
      "display_name": "R"
    },
    "language_info": {
      "name": "R"
    }
  },
  "cells": [
    {
      "cell_type": "markdown",
      "metadata": {
        "id": "view-in-github",
        "colab_type": "text"
      },
      "source": [
        "<a href=\"https://colab.research.google.com/github/Ashutosh-yadav0001/R-Programming/blob/main/week_1.ipynb\" target=\"_parent\"><img src=\"https://colab.research.google.com/assets/colab-badge.svg\" alt=\"Open In Colab\"/></a>"
      ]
    },
    {
      "cell_type": "markdown",
      "source": [
        "Exercise 2: Variables and Assignments\n",
        "Declare variables and perform operations"
      ],
      "metadata": {
        "id": "9i5Tf__j99dK"
      }
    },
    {
      "cell_type": "code",
      "execution_count": 1,
      "metadata": {
        "colab": {
          "base_uri": "https://localhost:8080/",
          "height": 52
        },
        "id": "3vmwjxMG8sCi",
        "outputId": "e1165c4e-0083-4231-d2da-7893f4c4f3a8"
      },
      "outputs": [
        {
          "output_type": "display_data",
          "data": {
            "text/html": [
              "8"
            ],
            "text/markdown": "8",
            "text/latex": "8",
            "text/plain": [
              "[1] 8"
            ]
          },
          "metadata": {}
        },
        {
          "output_type": "display_data",
          "data": {
            "text/html": [
              "2"
            ],
            "text/markdown": "2",
            "text/latex": "2",
            "text/plain": [
              "[1] 2"
            ]
          },
          "metadata": {}
        }
      ],
      "source": [
        "# Declare variables\n",
        "x <- 5\n",
        "y <- 3\n",
        "\n",
        "# Perform operations\n",
        "sum <- x + y\n",
        "difference <- x - y\n",
        "\n",
        "# View the results\n",
        "sum\n",
        "difference\n"
      ]
    },
    {
      "cell_type": "markdown",
      "source": [
        "Explore different data types in R"
      ],
      "metadata": {
        "id": "BoqRcmfN-Hva"
      }
    },
    {
      "cell_type": "code",
      "source": [
        "# Numeric\n",
        "num_var <- 10\n",
        "\n",
        "# Character\n",
        "char_var <- \"Hello, R!\"\n",
        "\n",
        "# Logical\n",
        "bool_var <- TRUE\n",
        "\n",
        "# View the data types\n",
        "class(num_var)\n",
        "class(char_var)\n",
        "class(bool_var)"
      ],
      "metadata": {
        "colab": {
          "base_uri": "https://localhost:8080/",
          "height": 69
        },
        "id": "lyeGLCwE-Nst",
        "outputId": "b82a4f57-4166-4f40-91dd-5d8e1b541c53"
      },
      "execution_count": 2,
      "outputs": [
        {
          "output_type": "display_data",
          "data": {
            "text/html": [
              "'numeric'"
            ],
            "text/markdown": "'numeric'",
            "text/latex": "'numeric'",
            "text/plain": [
              "[1] \"numeric\""
            ]
          },
          "metadata": {}
        },
        {
          "output_type": "display_data",
          "data": {
            "text/html": [
              "'character'"
            ],
            "text/markdown": "'character'",
            "text/latex": "'character'",
            "text/plain": [
              "[1] \"character\""
            ]
          },
          "metadata": {}
        },
        {
          "output_type": "display_data",
          "data": {
            "text/html": [
              "'logical'"
            ],
            "text/markdown": "'logical'",
            "text/latex": "'logical'",
            "text/plain": [
              "[1] \"logical\""
            ]
          },
          "metadata": {}
        }
      ]
    },
    {
      "cell_type": "code",
      "source": [
        "# Assign a decimal number\n",
        "num_var <- 3.14\n",
        "class(num_var) # Output: \"numeric\"\n",
        "\n",
        "# Assign a longer string\n",
        "char_var <- \"This is a longer string.\"\n",
        "class(char_var) # Output: \"character\"\n",
        "\n",
        "# Assign a FALSE value\n",
        "bool_var <- FALSE\n",
        "class(bool_var) # Output: \"logical\""
      ],
      "metadata": {
        "colab": {
          "base_uri": "https://localhost:8080/",
          "height": 69
        },
        "id": "p69bgcfp-12m",
        "outputId": "10155095-7bec-4e3f-c5ec-22af92581cd9"
      },
      "execution_count": 3,
      "outputs": [
        {
          "output_type": "display_data",
          "data": {
            "text/html": [
              "'numeric'"
            ],
            "text/markdown": "'numeric'",
            "text/latex": "'numeric'",
            "text/plain": [
              "[1] \"numeric\""
            ]
          },
          "metadata": {}
        },
        {
          "output_type": "display_data",
          "data": {
            "text/html": [
              "'character'"
            ],
            "text/markdown": "'character'",
            "text/latex": "'character'",
            "text/plain": [
              "[1] \"character\""
            ]
          },
          "metadata": {}
        },
        {
          "output_type": "display_data",
          "data": {
            "text/html": [
              "'logical'"
            ],
            "text/markdown": "'logical'",
            "text/latex": "'logical'",
            "text/plain": [
              "[1] \"logical\""
            ]
          },
          "metadata": {}
        }
      ]
    },
    {
      "source": [
        "# Generate data\n",
        "x <- 1:10\n",
        "y <- x^2\n",
        "\n",
        "# Plot\n",
        "plot(x, y, main = \"Simple Scatter Plot\", xlab = \"X\", ylab = \"Y\")"
      ],
      "cell_type": "code",
      "metadata": {
        "colab": {
          "base_uri": "https://localhost:8080/",
          "height": 437
        },
        "id": "rwQ_Tl3R_EN7",
        "outputId": "8992c578-bac2-4fea-b2ec-81e9539b2431"
      },
      "execution_count": 4,
      "outputs": [
        {
          "output_type": "display_data",
          "data": {
            "text/plain": [
              "Plot with title “Simple Scatter Plot”"
            ],
            "image/png": "[encoded data removed]"
          },
          "metadata": {
            "image/png": {
              "width": 420,
              "height": 420
            }
          }
        }
      ]
    },
    {
      "source": [
        "install.packages(\"plotly\", version = \"4.10.2\")"
      ],
      "cell_type": "code",
      "metadata": {
        "colab": {
          "base_uri": "https://localhost:8080/"
        },
        "id": "Hq7QAeL8_NQF",
        "outputId": "ab16b01e-6756-45b8-a0ac-98b1d75169aa"
      },
      "execution_count": 11,
      "outputs": [
        {
          "output_type": "stream",
          "name": "stderr",
          "text": [
            "Installing package into ‘/usr/local/lib/R/site-library’\n",
            "(as ‘lib’ is unspecified)\n",
            "\n",
            "also installing the dependencies ‘later’, ‘promises’\n",
            "\n",
            "\n"
          ]
        }
      ]
    },
    {
      "source": [
        "install.packages(\"plotly\", version = \"4.10.2\")\n",
        "library(plotly)\n",
        "# Generate data\n",
        "x <- 1:10\n",
        "y <- x^2\n",
        "\n",
        "# Plot\n",
        "plot_ly(x = x, y = y, type = 'scatter', mode = 'markers') %>%\n",
        "  layout(title = \"Interactive Scatter Plot\", xaxis = list(title = \"X\"), yaxis = list(title = \"Y\"))"
      ],
      "cell_type": "code",
      "metadata": {
        "id": "Rkbn1GL6_Nw3"
      },
      "execution_count": null,
      "outputs": []
    },
    {
      "cell_type": "markdown",
      "source": [],
      "metadata": {
        "id": "xXguW0-n-S6z"
      }
    },
    {
      "cell_type": "markdown",
      "source": [],
      "metadata": {
        "id": "Z2S1-sjX965o"
      }
    },
    {
      "cell_type": "markdown",
      "source": [],
      "metadata": {
        "id": "ojx-uWTu9w7m"
      }
    }
  ]
}