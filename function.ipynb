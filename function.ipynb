{
  "nbformat": 4,
  "nbformat_minor": 0,
  "metadata": {
    "colab": {
      "provenance": [],
      "authorship_tag": "ABX9TyPgzOfCL2BLKK/EY8NUqq0D",
      "include_colab_link": true
    },
    "kernelspec": {
      "name": "ir",
      "display_name": "R"
    },
    "language_info": {
      "name": "R"
    }
  },
  "cells": [
    {
      "cell_type": "markdown",
      "metadata": {
        "id": "view-in-github",
        "colab_type": "text"
      },
      "source": [
        "<a href=\"https://colab.research.google.com/github/Ashutosh-yadav0001/R-Programming/blob/main/function.ipynb\" target=\"_parent\"><img src=\"https://colab.research.google.com/assets/colab-badge.svg\" alt=\"Open In Colab\"/></a>"
      ]
    },
    {
      "cell_type": "code",
      "execution_count": null,
      "metadata": {
        "id": "L14hpK6aWZWx"
      },
      "outputs": [],
      "source": []
    },
    {
      "source": [
        "# Define a function named 'my_function' that takes one argument 'x'\n",
        "my_function <- function(x) {\n",
        "  # Calculate the square of 'x'\n",
        "  result <- x^2\n",
        "  # Return the result\n",
        "  return(result)\n",
        "}\n",
        "\n",
        "# Call the function with the value 5\n",
        "output <- my_function(5)\n",
        "\n",
        "# Print the output\n",
        "print(output)  # Output: 25"
      ],
      "cell_type": "code",
      "metadata": {
        "colab": {
          "base_uri": "https://localhost:8080/"
        },
        "id": "1HRhxtZ3XYxD",
        "outputId": "c04c6fa2-3e5f-4ce8-8a4c-feb1c01bfa0e"
      },
      "execution_count": 1,
      "outputs": [
        {
          "output_type": "stream",
          "name": "stdout",
          "text": [
            "[1] 25\n"
          ]
        }
      ]
    },
    {
      "cell_type": "code",
      "source": [],
      "metadata": {
        "id": "dR4PQMB1XbPp"
      },
      "execution_count": null,
      "outputs": []
    },
    {
      "source": [
        "# Define a function named 'my_function' that takes one argument 'x'\n",
        "my_function <- function(x) {\n",
        "  # Calculate the square of 'x'\n",
        "  result <- x^2\n",
        "  # Return the result\n",
        "  return(result)\n",
        "}\n",
        "\n",
        "# Call the function with the value 5\n",
        "output <- my_function(5)\n",
        "\n",
        "# Print the output\n",
        "print(output)  # Output: 25\n",
        "\n",
        "square = function(x) x**2 # Define square function in R\n",
        "print(square(5))  # Output: 25\n",
        "\n",
        "name = function(x) paste(\"hello my name is\", x, sep = \" \") # Define name function in R using paste\n",
        "print(name(\"Sam\")) # Output: hello my name is Sam"
      ],
      "cell_type": "code",
      "metadata": {
        "colab": {
          "base_uri": "https://localhost:8080/"
        },
        "id": "CCwSDKoIrBs5",
        "outputId": "9c252f7b-7467-4101-f4b1-673a145891e1"
      },
      "execution_count": 2,
      "outputs": [
        {
          "output_type": "stream",
          "name": "stdout",
          "text": [
            "[1] 25\n",
            "[1] 25\n",
            "[1] \"hello my name is Sam\"\n"
          ]
        }
      ]
    },
    {
      "source": [
        "# Define a function called 'multi_op' that takes two arguments 'x' and 'y'\n",
        "multi_op <- function(x, y) {\n",
        "  sum_result <- x + y  # Calculate the sum\n",
        "  diff_result <- x - y  # Calculate the difference\n",
        "  prod_result <- x * y  # Calculate the product\n",
        "\n",
        "  # Check if y is not zero before performing division\n",
        "  if (y != 0) {\n",
        "    div_result <- x / y  # Calculate the division\n",
        "  } else {\n",
        "    div_result <- \"Division by zero not allowed\"  # Handle division by zero\n",
        "  }\n",
        "\n",
        "  # Return a list containing all the results\n",
        "  return(list(sum = sum_result, difference = diff_result, product = prod_result, division = div_result))\n",
        "}\n",
        "\n",
        "# Call the function with values 10 and 5\n",
        "results <- multi_op(10, 5)\n",
        "\n",
        "# Print the results\n",
        "print(results)"
      ],
      "cell_type": "code",
      "metadata": {
        "id": "N6mrBj2lrX37"
      },
      "execution_count": null,
      "outputs": []
    }
  ]
}